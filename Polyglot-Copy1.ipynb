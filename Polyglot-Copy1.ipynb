{
 "cells": [
  {
   "cell_type": "code",
   "execution_count": 8,
   "metadata": {
    "collapsed": false
   },
   "outputs": [
    {
     "name": "stdout",
     "output_type": "stream",
     "text": [
      "Train classifier Score: 0.9866496401207336\n",
      "Test 1: Expected: clojure; Predicted: clojure; CORRECT\n",
      "Test 10: Expected: javascript; Predicted: javascript; CORRECT\n",
      "Test 11: Expected: javascript; Predicted: javascript; CORRECT\n",
      "Test 12: Expected: javascript; Predicted: javascript; CORRECT\n",
      "Test 13: Expected: ruby; Predicted: ruby; CORRECT\n",
      "Test 14: Expected: ruby; Predicted: ruby; CORRECT\n",
      "Test 15: Expected: ruby; Predicted: ruby; CORRECT\n",
      "Test 16: Expected: haskell; Predicted: haskell; CORRECT\n",
      "Test 17: Expected: haskell; Predicted: haskell; CORRECT\n",
      "Test 18: Expected: haskell; Predicted: haskell; CORRECT\n",
      "Test 19: Expected: scheme; Predicted: scheme; CORRECT\n",
      "Test 2: Expected: clojure; Predicted: clojure; CORRECT\n",
      "Test 20: Expected: scheme; Predicted: scheme; CORRECT\n",
      "Test 21: Expected: scheme; Predicted: scheme; CORRECT\n",
      "Test 22: Expected: java; Predicted: java; CORRECT\n",
      "Test 23: Expected: java; Predicted: java; CORRECT\n",
      "Test 24: Expected: scala; Predicted: scala; CORRECT\n",
      "Test 25: Expected: scala; Predicted: scala; CORRECT\n",
      "Test 26: Expected: tcl; Predicted: scheme; WRONG\n",
      "Test 27: Expected: tcl; Predicted: c; WRONG\n",
      "Test 28: Expected: php; Predicted: php; CORRECT\n",
      "Test 29: Expected: php; Predicted: php; CORRECT\n",
      "Test 3: Expected: clojure; Predicted: clojure; CORRECT\n",
      "Test 30: Expected: php; Predicted: php; CORRECT\n",
      "Test 31: Expected: ocaml; Predicted: ocaml; CORRECT\n",
      "Test 32: Expected: ocaml; Predicted: ocaml; CORRECT\n",
      "Test 4: Expected: clojure; Predicted: clojure; CORRECT\n",
      "Test 5: Expected: python; Predicted: python; CORRECT\n",
      "Test 6: Expected: python; Predicted: python; CORRECT\n",
      "Test 7: Expected: python; Predicted: python; CORRECT\n",
      "Test 8: Expected: python; Predicted: python; CORRECT\n",
      "Test 9: Expected: javascript; Predicted: javascript; CORRECT\n",
      "Percent correct (does not include tcl tests): 1.0\n",
      "Failed on:  []\n"
     ]
    }
   ],
   "source": [
    "from sklearn.feature_extraction.text import CountVectorizer\n",
    "from sklearn.feature_extraction.text import TfidfTransformer\n",
    "from sklearn.linear_model import SGDClassifier\n",
    "from sklearn.datasets import load_files\n",
    "import glob\n",
    "\n",
    "dataset = load_files('data', encoding='UTF-8', decode_error='replace')\n",
    "\n",
    "vec = CountVectorizer(ngram_range=(1, 2))\n",
    "X_train_counts = vec.fit_transform(dataset.data)\n",
    "\n",
    "tf_transformer = TfidfTransformer()\n",
    "X_train_tfidf = tf_transformer.fit_transform(X_train_counts)\n",
    "\n",
    "sgd = SGDClassifier(alpha=1e-3, random_state=42).fit(X_train_tfidf, dataset.target)\n",
    "\n",
    "print(\"Train classifier Score: {}\".format(sgd.score(X_train_tfidf,\n",
    "                                          dataset.target)))\n",
    "\n",
    "\n",
    "def get_file(code):\n",
    "    f = open(code)\n",
    "    text = [f.read()]\n",
    "    return text\n",
    "\n",
    "\n",
    "tests = glob.glob('test/*')\n",
    "\n",
    "\n",
    "def get_lang(code_file):\n",
    "    test_doc = get_file(code_file)\n",
    "    X_new_counts = vec.transform(test_doc)\n",
    "    X_new_tfidf = tf_transformer.transform(X_new_counts)\n",
    "\n",
    "    predicted = dataset.target_names[sgd.predict(X_new_tfidf)[0]]\n",
    "\n",
    "    return predicted\n",
    "\n",
    "\n",
    "def run_tests(tests):\n",
    "    results = []\n",
    "    for t in tests:\n",
    "        results.append(get_lang(t))\n",
    "    return(results)\n",
    "\n",
    "results = run_tests(tests)\n",
    "test_expected = [('1', 'clojure'),\n",
    "                 ('10', 'javascript'),\n",
    "                 ('11', 'javascript'),\n",
    "                 ('12', 'javascript'),\n",
    "                 ('13', 'ruby'),\n",
    "                 ('14', 'ruby'),\n",
    "                 ('15', 'ruby'),\n",
    "                 ('16', 'haskell'),\n",
    "                 ('17', 'haskell'),\n",
    "                 ('18', 'haskell'),\n",
    "                 ('19', 'scheme'),\n",
    "                 ('2', 'clojure'),\n",
    "                 ('20', 'scheme'),\n",
    "                 ('21', 'scheme'),\n",
    "                 ('22', 'java'),\n",
    "                 ('23', 'java'),\n",
    "                 ('24', 'scala'),\n",
    "                 ('25', 'scala'),\n",
    "                 ('26', 'tcl'),\n",
    "                 ('27', 'tcl'),\n",
    "                 ('28', 'php'),\n",
    "                 ('29', 'php'),\n",
    "                 ('3', 'clojure'),\n",
    "                 ('30', 'php'),\n",
    "                 ('31', 'ocaml'),\n",
    "                 ('32', 'ocaml'),\n",
    "                 ('4', 'clojure'),\n",
    "                 ('5', 'python'),\n",
    "                 ('6', 'python'),\n",
    "                 ('7', 'python'),\n",
    "                 ('8', 'python'),\n",
    "                 ('9', 'javascript')]\n",
    "\n",
    "both = zip(test_expected, results)\n",
    "count = 0\n",
    "failed_on = []\n",
    "\n",
    "for i in both:\n",
    "    correct = 'WRONG'\n",
    "    if i[0][1] == i[1]:\n",
    "        correct = 'CORRECT'\n",
    "        count += 1\n",
    "    else:\n",
    "        if i[0][1] != 'tcl':\n",
    "            failed_on.append(i[0][1])\n",
    "    print('Test {}: Expected: {}; Predicted: {}; {}'.format(i[0][0],\n",
    "                                                            i[0][1], i[1],\n",
    "                                                            correct))\n",
    "\n",
    "print('Percent correct (does not include tcl tests): {}'.format(count/30))\n",
    "print('Failed on: ', failed_on)\n"
   ]
  },
  {
   "cell_type": "code",
   "execution_count": 1,
   "metadata": {
    "collapsed": false
   },
   "outputs": [],
   "source": [
    "from sklearn.feature_extraction.text import CountVectorizer\n",
    "from sklearn.feature_extraction.text import TfidfTransformer\n",
    "from sklearn.naive_bayes import MultinomialNB\n",
    "from sklearn.linear_model import SGDClassifier\n",
    "from sklearn.pipeline import Pipeline\n",
    "from sklearn.datasets import load_files\n",
    "from sklearn.cross_validation import train_test_split\n",
    "import random\n",
    "import glob"
   ]
  },
  {
   "cell_type": "code",
   "execution_count": 2,
   "metadata": {
    "collapsed": false
   },
   "outputs": [],
   "source": [
    "dataset = load_files('data', encoding='UTF-8', decode_error='replace')"
   ]
  },
  {
   "cell_type": "code",
   "execution_count": 3,
   "metadata": {
    "collapsed": true
   },
   "outputs": [],
   "source": [
    "# seed = random.randint(1,1000)\n",
    "# X_train, X_test, y_train, y_test = train_test_split(dataset.data, dataset.target, test_size=0.2, random_state=seed)"
   ]
  },
  {
   "cell_type": "code",
   "execution_count": 4,
   "metadata": {
    "collapsed": false
   },
   "outputs": [],
   "source": [
    "vec = CountVectorizer(ngram_range=(1,2))\n",
    "X_train_counts = vec.fit_transform(dataset.data)"
   ]
  },
  {
   "cell_type": "code",
   "execution_count": 5,
   "metadata": {
    "collapsed": false
   },
   "outputs": [],
   "source": [
    "tf_transformer = TfidfTransformer()\n",
    "X_train_tfidf = tf_transformer.fit_transform(X_train_counts)"
   ]
  },
  {
   "cell_type": "code",
   "execution_count": 6,
   "metadata": {
    "collapsed": false
   },
   "outputs": [
    {
     "ename": "NameError",
     "evalue": "name 'seed' is not defined",
     "output_type": "error",
     "traceback": [
      "\u001b[0;31m---------------------------------------------------------------------------\u001b[0m",
      "\u001b[0;31mNameError\u001b[0m                                 Traceback (most recent call last)",
      "\u001b[0;32m<ipython-input-6-b0f9993e3d2e>\u001b[0m in \u001b[0;36m<module>\u001b[0;34m()\u001b[0m\n\u001b[0;32m----> 1\u001b[0;31m \u001b[0msgd\u001b[0m \u001b[0;34m=\u001b[0m \u001b[0mSGDClassifier\u001b[0m\u001b[0;34m(\u001b[0m\u001b[0mloss\u001b[0m\u001b[0;34m=\u001b[0m\u001b[0;34m'hinge'\u001b[0m\u001b[0;34m,\u001b[0m \u001b[0mpenalty\u001b[0m\u001b[0;34m=\u001b[0m\u001b[0;34m'l2'\u001b[0m\u001b[0;34m,\u001b[0m \u001b[0malpha\u001b[0m\u001b[0;34m=\u001b[0m\u001b[0;36m1e-3\u001b[0m\u001b[0;34m,\u001b[0m \u001b[0mn_iter\u001b[0m\u001b[0;34m=\u001b[0m\u001b[0;36m5\u001b[0m\u001b[0;34m,\u001b[0m \u001b[0mrandom_state\u001b[0m\u001b[0;34m=\u001b[0m\u001b[0mseed\u001b[0m\u001b[0;34m)\u001b[0m\u001b[0;34m.\u001b[0m\u001b[0mfit\u001b[0m\u001b[0;34m(\u001b[0m\u001b[0mX_train_tfidf\u001b[0m\u001b[0;34m,\u001b[0m \u001b[0mdataset\u001b[0m\u001b[0;34m.\u001b[0m\u001b[0mtarget\u001b[0m\u001b[0;34m)\u001b[0m\u001b[0;34m\u001b[0m\u001b[0m\n\u001b[0m",
      "\u001b[0;31mNameError\u001b[0m: name 'seed' is not defined"
     ]
    }
   ],
   "source": [
    "sgd = SGDClassifier(loss='hinge', penalty='l2', alpha=1e-3, n_iter=5, random_state=seed).fit(X_train_tfidf, dataset.target)"
   ]
  },
  {
   "cell_type": "code",
   "execution_count": null,
   "metadata": {
    "collapsed": false
   },
   "outputs": [],
   "source": [
    "sgd.score(X_train_tfidf, dataset.target)"
   ]
  },
  {
   "cell_type": "code",
   "execution_count": null,
   "metadata": {
    "collapsed": false
   },
   "outputs": [],
   "source": [
    "# X_test_counts = vec.transform(X_test)\n",
    "# X_test_tfidf = tf_transformer.transform(X_test_counts)\n",
    "# clf.score(X_test_tfidf, y_test)"
   ]
  },
  {
   "cell_type": "code",
   "execution_count": null,
   "metadata": {
    "collapsed": false
   },
   "outputs": [],
   "source": [
    "# sgd.score(X_test_tfidf, y_test)"
   ]
  },
  {
   "cell_type": "code",
   "execution_count": null,
   "metadata": {
    "collapsed": false
   },
   "outputs": [],
   "source": [
    "def get_file(code):\n",
    "    f = open(code)\n",
    "    text = [f.read()]\n",
    "    return text\n",
    "\n",
    "test_doc = get_file('test/2')"
   ]
  },
  {
   "cell_type": "code",
   "execution_count": null,
   "metadata": {
    "collapsed": true
   },
   "outputs": [],
   "source": [
    "X_new_counts = vec.transform(test_doc)\n",
    "X_new_tfidf = tf_transformer.transform(X_new_counts)"
   ]
  },
  {
   "cell_type": "code",
   "execution_count": null,
   "metadata": {
    "collapsed": false
   },
   "outputs": [],
   "source": [
    "predicted = dataset.target_names[sgd.predict(X_new_tfidf)[0]]\n",
    "predicted"
   ]
  },
  {
   "cell_type": "code",
   "execution_count": null,
   "metadata": {
    "collapsed": false
   },
   "outputs": [],
   "source": [
    "tests = glob.glob('test/*')\n",
    "\n",
    "def run_tests(tests):\n",
    "    results = []\n",
    "    idx = 1\n",
    "    for i in tests:\n",
    "        test = get_file(i)\n",
    "        X_new_counts = vec.transform(test)\n",
    "        X_new_tfidf = tf_transformer.transform(X_new_counts)\n",
    "        results.append((dataset.target_names[sgd.predict(X_new_tfidf)[0]]))\n",
    "    return(results)"
   ]
  },
  {
   "cell_type": "code",
   "execution_count": null,
   "metadata": {
    "collapsed": false
   },
   "outputs": [],
   "source": [
    "results = run_tests(tests)"
   ]
  },
  {
   "cell_type": "code",
   "execution_count": null,
   "metadata": {
    "collapsed": false
   },
   "outputs": [],
   "source": [
    "test_expected = [('1','clojure'),\n",
    "('10','javascript'),\n",
    "('11','javascript'),\n",
    "('12','javascript'),\n",
    "('13','ruby'),\n",
    "('14','ruby'),\n",
    "('15','ruby'),\n",
    "('16','haskell'),\n",
    "('17','haskell'),\n",
    "('18','haskell'),\n",
    "('19','scheme'),\n",
    "('2','clojure'),\n",
    "('20','scheme'),\n",
    "('21','scheme'),\n",
    "('22','java'),\n",
    "('23','java'),\n",
    "('24','scala'),\n",
    "('25','scala'),\n",
    "('26','tcl'),\n",
    "('27','tcl'),\n",
    "('28','php'),\n",
    "('29','php'),\n",
    "('3','clojure'),\n",
    "('30','php'),\n",
    "('31','ocaml'),\n",
    "('32','ocaml'),\n",
    "('4','clojure'),\n",
    "('5','python'),\n",
    "('6','python'),\n",
    "('7','python'),\n",
    "('8','python'),\n",
    "('9','javascript')\n",
    "]"
   ]
  },
  {
   "cell_type": "code",
   "execution_count": null,
   "metadata": {
    "collapsed": false
   },
   "outputs": [],
   "source": [
    "both = zip(test_expected, results)\n",
    "count = 0\n",
    "failed_on = []\n",
    "\n",
    "for i in both:\n",
    "    correct = 'WRONG'\n",
    "    if i[0][1] == i[1]:\n",
    "        correct = 'CORRECT'\n",
    "        count += 1\n",
    "    else:\n",
    "        if i[0][1] != 'tcl':\n",
    "            failed_on.append(i[0][1])\n",
    "    print('Test {}: Expected: {}; Predicted: {}; {}'.format(i[0][0], i[0][1], i[1], correct))\n",
    "    \n",
    "print('\\nPercent correct: {}'.format(count/30))\n",
    "print('Failed on: ', failed_on)"
   ]
  },
  {
   "cell_type": "code",
   "execution_count": null,
   "metadata": {
    "collapsed": true
   },
   "outputs": [],
   "source": []
  }
 ],
 "metadata": {
  "kernelspec": {
   "display_name": "Python 3",
   "language": "python",
   "name": "python3"
  },
  "language_info": {
   "codemirror_mode": {
    "name": "ipython",
    "version": 3
   },
   "file_extension": ".py",
   "mimetype": "text/x-python",
   "name": "python",
   "nbconvert_exporter": "python",
   "pygments_lexer": "ipython3",
   "version": "3.5.1"
  }
 },
 "nbformat": 4,
 "nbformat_minor": 0
}
